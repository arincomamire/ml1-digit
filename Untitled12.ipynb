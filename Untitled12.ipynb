{
  "nbformat": 4,
  "nbformat_minor": 0,
  "metadata": {
    "colab": {
      "name": "Untitled12.ipynb",
      "provenance": [],
      "collapsed_sections": []
    },
    "kernelspec": {
      "name": "python3",
      "display_name": "Python 3"
    },
    "language_info": {
      "name": "python"
    }
  },
  "cells": [
    {
      "cell_type": "code",
      "execution_count": 1,
      "metadata": {
        "colab": {
          "base_uri": "https://localhost:8080/"
        },
        "id": "Zt4ec0oTS3aE",
        "outputId": "bf6b56c7-76c8-4ab0-f58c-89b09344f162"
      },
      "outputs": [
        {
          "output_type": "stream",
          "name": "stdout",
          "text": [
            "X.shape = (1797, 64), y.shape = (1797,)\n"
          ]
        }
      ],
      "source": [
        "import numpy as np\n",
        "import matplotlib.pyplot as plt\n",
        "\n",
        "from sklearn import datasets\n",
        "digits = datasets.load_digits()\n",
        "\n",
        "# class 0, 1, ..., 9 をすべての特徴量を使って多クラス分類する．\n",
        "X = digits.data\n",
        "y = digits.target\n",
        "print(f\"X.shape = {X.shape}, y.shape = {y.shape}\")"
      ]
    },
    {
      "cell_type": "code",
      "source": [
        "from sklearn.linear_model import LogisticRegression\n",
        "model = LogisticRegression(solver='lbfgs', max_iter=10000, multi_class='auto')"
      ],
      "metadata": {
        "id": "E_3pRgBoTElC"
      },
      "execution_count": 3,
      "outputs": []
    },
    {
      "cell_type": "code",
      "source": [
        "from sklearn.model_selection import train_test_split\n",
        "from sklearn.model_selection import cross_val_score\n",
        "\n",
        "train_X, test_X, train_y, test_y = train_test_split(X, y, test_size=0.3)\n",
        "model.fit(train_X, train_y)\n",
        "accuracy_for_train = model.score(train_X, train_y)\n",
        "accuracy_for_test  = model.score(test_X,  test_y)\n",
        "print(\"訓練データに対する精度  :\", accuracy_for_train)\n",
        "print(\"テストデータに対する精度:\", accuracy_for_test)"
      ],
      "metadata": {
        "colab": {
          "base_uri": "https://localhost:8080/"
        },
        "id": "oyaVsC7vTPnD",
        "outputId": "1c62e70b-5eec-4447-872b-64d32d5b545b"
      },
      "execution_count": 4,
      "outputs": [
        {
          "output_type": "stream",
          "name": "stdout",
          "text": [
            "訓練データに対する精度  : 1.0\n",
            "テストデータに対する精度: 0.9685185185185186\n"
          ]
        }
      ]
    },
    {
      "cell_type": "code",
      "source": [
        "import IPython\n",
        "from google.colab import output\n",
        "\n",
        "def paint():\n",
        "    \"\"\"\n",
        "    この関数を呼び出すと描画領域が現れ,\n",
        "    識別ボタンを押すと, 描いた画像をnumpy配列で返す.\n",
        "    \n",
        "    Returns\n",
        "    ----------\n",
        "    img : ndarray\n",
        "        描いた画像の要素数64の1次元numpy配列\n",
        "    \"\"\"\n",
        "    \n",
        "    js_code = '''\n",
        "    window.paint = new Promise(resolve => {\n",
        "        const canvas = document.createElement('canvas');\n",
        "        const ctx = canvas.getContext('2d');\n",
        "        const div = document.createElement('div');\n",
        "        const reset = document.createElement('button');\n",
        "        const exit = document.createElement('button');\n",
        "        reset.textContent = 'リセット';\n",
        "        exit.textContent = '識別';\n",
        "        div.appendChild(canvas);\n",
        "        div.appendChild(reset);\n",
        "        div.appendChild(exit);\n",
        "        const outArea = document.getElementById('output-body');\n",
        "        outArea.appendChild(div);\n",
        "\n",
        "        let flag = false;\n",
        "        let pre = {\n",
        "            x: 0,\n",
        "            y: 0\n",
        "        }\n",
        "        const viewSize = {\n",
        "            width: 512,\n",
        "            height: 512\n",
        "        };\n",
        "        const destSize = {\n",
        "            width: 8,\n",
        "            height: 8\n",
        "        }\n",
        "        canvas.style.width = viewSize.width+'px';\n",
        "        canvas.style.height = viewSize.height+'px';\n",
        "        canvas.style.border = 'solid 1px blue';\n",
        "        canvas.width = viewSize.width;\n",
        "        canvas.height = viewSize.height;\n",
        "        ctx.lineWidth = 100;\n",
        "        ctx.lineCap = 'round';\n",
        "        \n",
        "\n",
        "        canvas.onmousedown = (e) => {\n",
        "            const rect = e.target.getBoundingClientRect();\n",
        "            x = e.clientX - rect.left;\n",
        "            y = e.clientY - rect.top;\n",
        "            x = Math.floor(x);\n",
        "            y = Math.floor(y);\n",
        "            pre.x = x;\n",
        "            pre.y = y;\n",
        "            flag = true;\n",
        "        }\n",
        "        canvas.onmousemove = (e) => {\n",
        "            if(flag){\n",
        "                const rect = e.target.getBoundingClientRect();\n",
        "                x = Math.floor(x);\n",
        "                y = Math.floor(y);\n",
        "                x = e.clientX - rect.left;\n",
        "                y = e.clientY - rect.top;\n",
        "                ctx.beginPath();\n",
        "                ctx.moveTo(pre.x, pre.y);\n",
        "                ctx.lineTo(x, y);\n",
        "                ctx.stroke();\n",
        "                pre.x = x;\n",
        "                pre.y = y;\n",
        "            }\n",
        "        }\n",
        "        window.onmouseup=(e) => {\n",
        "            flag = false;\n",
        "        }\n",
        "\n",
        "        reset.onclick = (e) => {\n",
        "            ctx.clearRect(0, 0, viewSize.width, viewSize.height);\n",
        "        }\n",
        "\n",
        "        exit.onclick = (e) => {\n",
        "            const imgURL = canvas.toDataURL();\n",
        "            canvas.width = destSize.width;\n",
        "            canvas.height = destSize.height;\n",
        "\n",
        "            const resized = new Image();\n",
        "            resized.onload = () => {\n",
        "                ctx.drawImage(resized, 0, 0, destSize.width, destSize.height);\n",
        "                const imgData = ctx.getImageData(0, 0, destSize.width, destSize.height);\n",
        "                resolve(Array.from(imgData.data));\n",
        "            }\n",
        "            resized.src = imgURL;\n",
        "            canvas.onmousedown = null;\n",
        "            canvas.onmousemove = null;\n",
        "            canvas.onmouseup = null;\n",
        "            reset.onclick = null;\n",
        "            exit.onclick = null;\n",
        "            div.removeChild(reset);\n",
        "            div.removeChild(exit);\n",
        "        }\n",
        "    });\n",
        "    '''\n",
        "\n",
        "    display(IPython.display.Javascript(js_code))\n",
        "\n",
        "    img = output.eval_js('paint')\n",
        "    img = np.array(img)\n",
        "    img = 16.0 * img[3::4] // 255\n",
        "    return img"
      ],
      "metadata": {
        "id": "MybTsgsyTt1I"
      },
      "execution_count": 5,
      "outputs": []
    },
    {
      "cell_type": "code",
      "source": [
        "img = paint()\n",
        "print(\"識別結果：{}\".format(model.predict([img])))\n",
        "plt.imshow(img.reshape(8, 8))\n",
        "plt.plot()"
      ],
      "metadata": {
        "colab": {
          "base_uri": "https://localhost:8080/",
          "height": 540
        },
        "id": "0xOFeHoYUIaR",
        "outputId": "41f6d31d-6ffd-4106-8e18-30226784b51f"
      },
      "execution_count": null,
      "outputs": [
        {
          "output_type": "display_data",
          "data": {
            "application/javascript": [
              "\n",
              "    window.paint = new Promise(resolve => {\n",
              "        const canvas = document.createElement('canvas');\n",
              "        const ctx = canvas.getContext('2d');\n",
              "        const div = document.createElement('div');\n",
              "        const reset = document.createElement('button');\n",
              "        const exit = document.createElement('button');\n",
              "        reset.textContent = 'リセット';\n",
              "        exit.textContent = '識別';\n",
              "        div.appendChild(canvas);\n",
              "        div.appendChild(reset);\n",
              "        div.appendChild(exit);\n",
              "        const outArea = document.getElementById('output-body');\n",
              "        outArea.appendChild(div);\n",
              "\n",
              "        let flag = false;\n",
              "        let pre = {\n",
              "            x: 0,\n",
              "            y: 0\n",
              "        }\n",
              "        const viewSize = {\n",
              "            width: 512,\n",
              "            height: 512\n",
              "        };\n",
              "        const destSize = {\n",
              "            width: 8,\n",
              "            height: 8\n",
              "        }\n",
              "        canvas.style.width = viewSize.width+'px';\n",
              "        canvas.style.height = viewSize.height+'px';\n",
              "        canvas.style.border = 'solid 1px blue';\n",
              "        canvas.width = viewSize.width;\n",
              "        canvas.height = viewSize.height;\n",
              "        ctx.lineWidth = 100;\n",
              "        ctx.lineCap = 'round';\n",
              "        \n",
              "\n",
              "        canvas.onmousedown = (e) => {\n",
              "            const rect = e.target.getBoundingClientRect();\n",
              "            x = e.clientX - rect.left;\n",
              "            y = e.clientY - rect.top;\n",
              "            x = Math.floor(x);\n",
              "            y = Math.floor(y);\n",
              "            pre.x = x;\n",
              "            pre.y = y;\n",
              "            flag = true;\n",
              "        }\n",
              "        canvas.onmousemove = (e) => {\n",
              "            if(flag){\n",
              "                const rect = e.target.getBoundingClientRect();\n",
              "                x = Math.floor(x);\n",
              "                y = Math.floor(y);\n",
              "                x = e.clientX - rect.left;\n",
              "                y = e.clientY - rect.top;\n",
              "                ctx.beginPath();\n",
              "                ctx.moveTo(pre.x, pre.y);\n",
              "                ctx.lineTo(x, y);\n",
              "                ctx.stroke();\n",
              "                pre.x = x;\n",
              "                pre.y = y;\n",
              "            }\n",
              "        }\n",
              "        window.onmouseup=(e) => {\n",
              "            flag = false;\n",
              "        }\n",
              "\n",
              "        reset.onclick = (e) => {\n",
              "            ctx.clearRect(0, 0, viewSize.width, viewSize.height);\n",
              "        }\n",
              "\n",
              "        exit.onclick = (e) => {\n",
              "            const imgURL = canvas.toDataURL();\n",
              "            canvas.width = destSize.width;\n",
              "            canvas.height = destSize.height;\n",
              "\n",
              "            const resized = new Image();\n",
              "            resized.onload = () => {\n",
              "                ctx.drawImage(resized, 0, 0, destSize.width, destSize.height);\n",
              "                const imgData = ctx.getImageData(0, 0, destSize.width, destSize.height);\n",
              "                resolve(Array.from(imgData.data));\n",
              "            }\n",
              "            resized.src = imgURL;\n",
              "            canvas.onmousedown = null;\n",
              "            canvas.onmousemove = null;\n",
              "            canvas.onmouseup = null;\n",
              "            reset.onclick = null;\n",
              "            exit.onclick = null;\n",
              "            div.removeChild(reset);\n",
              "            div.removeChild(exit);\n",
              "        }\n",
              "    });\n",
              "    "
            ],
            "text/plain": [
              "<IPython.core.display.Javascript object>"
            ]
          },
          "metadata": {}
        }
      ]
    }
  ]
}